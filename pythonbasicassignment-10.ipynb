{
 "cells": [
  {
   "cell_type": "code",
   "execution_count": null,
   "id": "102788d8",
   "metadata": {},
   "outputs": [],
   "source": [
    "1. How do you distinguish between shutil.copy() and shutil.copytree()?\n",
    "2. What function is used to rename files??\n",
    "3. What is the difference between the delete functions in the send2trash and shutil modules?\n",
    "4.ZipFile objects have a close() method just like File objects’ close() method. What ZipFile method is\n",
    "equivalent to File objects’ open() method?\n",
    "5. Create a programme that searches a folder tree for files with a certain file extension (such as .pdf\n",
    "or .jpg). Copy these files from whatever location they are in to a new folder."
   ]
  },
  {
   "cell_type": "code",
   "execution_count": null,
   "id": "1401c71a",
   "metadata": {},
   "outputs": [],
   "source": [
    "1. shutil.copy() copy a single source file into the destination folder and shutil.copytree() copies an entire directory to the \n",
    "destination folder."
   ]
  },
  {
   "cell_type": "code",
   "execution_count": null,
   "id": "01965abf",
   "metadata": {},
   "outputs": [],
   "source": [
    "2.rename() function is used to rename the file without changing the content in the file."
   ]
  },
  {
   "cell_type": "code",
   "execution_count": null,
   "id": "dc8c9776",
   "metadata": {},
   "outputs": [],
   "source": [
    "3.shutil() function move and rename file and send2trash function move file to recycle bin"
   ]
  },
  {
   "cell_type": "code",
   "execution_count": null,
   "id": "97ec5e6d",
   "metadata": {},
   "outputs": [],
   "source": [
    "4. zipfile.Zipfile() is equivalent to file objects open() method"
   ]
  },
  {
   "cell_type": "code",
   "execution_count": null,
   "id": "9980a032",
   "metadata": {},
   "outputs": [],
   "source": [
    "5.filename=()\n",
    " if filename ends with (.pdf or .jpg)"
   ]
  },
  {
   "cell_type": "code",
   "execution_count": null,
   "id": "d6e81201",
   "metadata": {},
   "outputs": [],
   "source": []
  },
  {
   "cell_type": "code",
   "execution_count": null,
   "id": "6a505eeb",
   "metadata": {},
   "outputs": [],
   "source": []
  },
  {
   "cell_type": "code",
   "execution_count": null,
   "id": "11e96592",
   "metadata": {},
   "outputs": [],
   "source": []
  }
 ],
 "metadata": {
  "kernelspec": {
   "display_name": "Python 3 (ipykernel)",
   "language": "python",
   "name": "python3"
  },
  "language_info": {
   "codemirror_mode": {
    "name": "ipython",
    "version": 3
   },
   "file_extension": ".py",
   "mimetype": "text/x-python",
   "name": "python",
   "nbconvert_exporter": "python",
   "pygments_lexer": "ipython3",
   "version": "3.9.12"
  }
 },
 "nbformat": 4,
 "nbformat_minor": 5
}
